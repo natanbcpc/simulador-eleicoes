{
 "cells": [
  {
   "cell_type": "code",
   "execution_count": 2,
   "metadata": {},
   "outputs": [],
   "source": [
    "import matplotlib.pyplot as plot\n",
    "import numpy as np\n",
    "\n",
    "from random import randint"
   ]
  },
  {
   "cell_type": "code",
   "execution_count": 3,
   "metadata": {},
   "outputs": [],
   "source": [
    "vetor = [] # cria lista\n",
    "\n",
    "# preenche a lista com 3000 votos no candidato A e 7000 no candidato B\n",
    "for i in range(3000):\n",
    "    vetor.append('A')\n",
    "    \n",
    "for j in range(7000):\n",
    "    vetor.append('B')"
   ]
  },
  {
   "cell_type": "code",
   "execution_count": 36,
   "metadata": {},
   "outputs": [],
   "source": [
    "tentativas = 2000\n",
    "n1 = 30\n",
    "n2 = 700\n",
    "\n",
    "# lista para guardas as proporções amostrais de votos em A\n",
    "prop_amostral_a_1 = []\n",
    "prop_amostral_a_2 = []"
   ]
  },
  {
   "cell_type": "code",
   "execution_count": 40,
   "metadata": {},
   "outputs": [],
   "source": [
    "# popula dados das listas de proporcao amostral de votos em A com reposição\n",
    "for i in range(tentativas):\n",
    "    amostra_1 = []\n",
    "    for j in range(n1):\n",
    "        amostra_1.append(vetor[randint(0,9999)])\n",
    "        \n",
    "    amostra_2 = []\n",
    "    for j in range(n2):\n",
    "        amostra_2.append(vetor[randint(0,9999)])\n",
    "    \n",
    "    prop_amostral_a_1.append(amostra_1.count('A')/n1)\n",
    "    prop_amostral_a_2.append(amostra_2.count('A')/n2)"
   ]
  },
  {
   "cell_type": "code",
   "execution_count": 46,
   "metadata": {},
   "outputs": [
    {
     "name": "stdout",
     "output_type": "stream",
     "text": [
      "Amostra de tamanho: 30\n"
     ]
    },
    {
     "data": {
      "image/png": "[encoded data removed]",
      "text/plain": [
       "<Figure size 432x288 with 1 Axes>"
      ]
     },
     "metadata": {
      "needs_background": "light"
     },
     "output_type": "display_data"
    },
    {
     "name": "stdout",
     "output_type": "stream",
     "text": [
      "Média: 0.29866\n",
      "Desvio Padrão: 0.08345\n"
     ]
    }
   ],
   "source": [
    "print(\"Amostra de tamanho: \" + str(n1))\n",
    "\n",
    "plot.hist(prop_amostral_a_1, bins=15)\n",
    "plot.xlabel('Probabilidade')\n",
    "plot.show()\n",
    "\n",
    "print('Média: ' + str(round(np.average(prop_amostral_a_1), 5)))\n",
    "print('Desvio Padrão: ' + str(round(np.std(prop_amostral_a_1), 5)))"
   ]
  },
  {
   "cell_type": "code",
   "execution_count": 47,
   "metadata": {},
   "outputs": [
    {
     "name": "stdout",
     "output_type": "stream",
     "text": [
      "Amostra de tamanho: 700\n"
     ]
    },
    {
     "data": {
      "image/png": "[encoded data removed]",
      "text/plain": [
       "<Figure size 432x288 with 1 Axes>"
      ]
     },
     "metadata": {
      "needs_background": "light"
     },
     "output_type": "display_data"
    },
    {
     "name": "stdout",
     "output_type": "stream",
     "text": [
      "Média: 0.30004\n",
      "Desvio Padrão: 0.01733\n"
     ]
    }
   ],
   "source": [
    "print(\"Amostra de tamanho: \" + str(n2))\n",
    "\n",
    "plot.hist(prop_amostral_a_2, bins=15)\n",
    "plot.show()\n",
    "\n",
    "print('Média: ' + str(round(np.average(prop_amostral_a_2), 5)))\n",
    "print('Desvio Padrão: ' + str(round(np.std(prop_amostral_a_2), 5)))"
   ]
  }
 ],
 "metadata": {
  "kernelspec": {
   "display_name": "Python 3",
   "language": "python",
   "name": "python3"
  },
  "language_info": {
   "codemirror_mode": {
    "name": "ipython",
    "version": 3
   },
   "file_extension": ".py",
   "mimetype": "text/x-python",
   "name": "python",
   "nbconvert_exporter": "python",
   "pygments_lexer": "ipython3",
   "version": "3.6.7"
  }
 },
 "nbformat": 4,
 "nbformat_minor": 2
}
